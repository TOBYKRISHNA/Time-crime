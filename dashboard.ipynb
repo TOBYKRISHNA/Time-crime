{
  "nbformat": 4,
  "nbformat_minor": 0,
  "metadata": {
    "colab": {
      "provenance": [],
      "authorship_tag": "ABX9TyOF4usVbv1HBn1k8d8ln/gN",
      "include_colab_link": true
    },
    "kernelspec": {
      "name": "python3",
      "display_name": "Python 3"
    },
    "language_info": {
      "name": "python"
    }
  },
  "cells": [
    {
      "cell_type": "markdown",
      "metadata": {
        "id": "view-in-github",
        "colab_type": "text"
      },
      "source": [
        "<a href=\"https://colab.research.google.com/github/TOBYKRISHNA/Time-crime/blob/main/dashboard.ipynb\" target=\"_parent\"><img src=\"https://colab.research.google.com/assets/colab-badge.svg\" alt=\"Open In Colab\"/></a>"
      ]
    },
    {
      "cell_type": "code",
      "source": [
        "!pip install dash\n",
        "import pandas as pd\n",
        "import plotly.express as px\n",
        "from dash import Dash, dcc, html, Input, Output\n",
        "import dash\n",
        "\n",
        "# Load datasets\n",
        "train_file_path = \"Train.xlsx\"\n",
        "test_file_path = \"Test.csv\"\n",
        "train_df = pd.read_excel(train_file_path)\n",
        "test_df = pd.read_csv(test_file_path)\n",
        "\n",
        "# Data Preprocessing\n",
        "train_df.dropna(inplace=True)  # Remove missing values\n",
        "test_df.dropna(inplace=True)\n",
        "\n",
        "# Convert Date column to datetime format\n",
        "df = pd.concat([train_df, test_df], ignore_index=True)\n",
        "df['Date'] = pd.to_datetime(df['Date'], errors='coerce')\n",
        "df.dropna(subset=['Date'], inplace=True)  # Drop invalid dates\n",
        "\n",
        "# Aggregate data by Date and Crime Type\n",
        "df['Incident_Counts'] = df.groupby(['Date', 'TYPE'])['TYPE'].transform('count')\n",
        "df = df.drop_duplicates(subset=['Date', 'TYPE'])  # Keep unique date-type pairs\n",
        "\n",
        "# Exploratory Data Analysis (EDA)\n",
        "crime_summary = df.groupby('TYPE')['Incident_Counts'].sum().reset_index()\n",
        "print(\"Crime Summary:\")\n",
        "print(crime_summary.head())\n",
        "\n",
        "# Initialize Dash app\n",
        "app = Dash(__name__)\n",
        "server = app.server\n",
        "\n",
        "app.layout = html.Div([\n",
        "    html.H1(\"Crime Data Dashboard\", style={'textAlign': 'center'}),\n",
        "\n",
        "    dcc.Dropdown(\n",
        "        id='crime_type',\n",
        "        options=[{'label': c, 'value': c} for c in df['TYPE'].unique()],\n",
        "        value=df['TYPE'].unique()[0],\n",
        "        multi=False\n",
        "    ),\n",
        "\n",
        "    dcc.Graph(id='time_series'),\n",
        "    dcc.Graph(id='crime_bar'),\n",
        "    dcc.Graph(id='crime_map'),\n",
        "    dcc.Graph(\n",
        "        figure=px.histogram(df, x='TYPE', y='Incident_Counts', title='Crime Type Distribution'),\n",
        "        id='crime_histogram'\n",
        "    )\n",
        "])\n",
        "\n",
        "@app.callback(\n",
        "    Output('time_series', 'figure'),\n",
        "    Input('crime_type', 'value')\n",
        ")\n",
        "def update_time_series(selected_type):\n",
        "    filtered_df = df[df['TYPE'] == selected_type]\n",
        "    time_fig = px.line(filtered_df, x='Date', y='Incident_Counts', title='Crime Trend Over Time')\n",
        "    return time_fig\n",
        "\n",
        "@app.callback(\n",
        "    Output('crime_bar', 'figure'),\n",
        "    Input('crime_type', 'value')\n",
        ")\n",
        "def update_bar_chart(selected_type):\n",
        "    filtered_df = df[df['TYPE'] == selected_type]\n",
        "    bar_fig = px.bar(filtered_df, x='NEIGHBOURHOOD', y='Incident_Counts', title='Crime Distribution by Type')\n",
        "    return bar_fig\n",
        "\n",
        "@app.callback(\n",
        "    Output('crime_map', 'figure'),\n",
        "    Input('crime_type', 'value')\n",
        ")\n",
        "def update_map(selected_type):\n",
        "    filtered_df = df[df['TYPE'] == selected_type]\n",
        "    map_fig = px.scatter_mapbox(\n",
        "        filtered_df, lat='Latitude', lon='Longitude', color='TYPE',\n",
        "        title='Crime Heatmap by Location', mapbox_style='open-street-map'\n",
        "    )\n",
        "    return map_fig\n",
        "\n",
        "if __name__ == '__main__':\n",
        "    app.run(debug=False) # Change app.run_server to app.run\n"
      ],
      "metadata": {
        "colab": {
          "base_uri": "https://localhost:8080/",
          "height": 1000
        },
        "id": "NYJHoJ7zLGzX",
        "outputId": "cab467d3-b1bd-4d9e-d64c-53e5bd4b395a"
      },
      "execution_count": 2,
      "outputs": [
        {
          "output_type": "stream",
          "name": "stdout",
          "text": [
            "Requirement already satisfied: dash in /usr/local/lib/python3.11/dist-packages (3.0.0)\n",
            "Requirement already satisfied: Flask<3.1,>=1.0.4 in /usr/local/lib/python3.11/dist-packages (from dash) (3.0.3)\n",
            "Requirement already satisfied: Werkzeug<3.1 in /usr/local/lib/python3.11/dist-packages (from dash) (3.0.6)\n",
            "Requirement already satisfied: plotly>=5.0.0 in /usr/local/lib/python3.11/dist-packages (from dash) (5.24.1)\n",
            "Requirement already satisfied: importlib-metadata in /usr/local/lib/python3.11/dist-packages (from dash) (8.6.1)\n",
            "Requirement already satisfied: typing-extensions>=4.1.1 in /usr/local/lib/python3.11/dist-packages (from dash) (4.12.2)\n",
            "Requirement already satisfied: requests in /usr/local/lib/python3.11/dist-packages (from dash) (2.32.3)\n",
            "Requirement already satisfied: retrying in /usr/local/lib/python3.11/dist-packages (from dash) (1.3.4)\n",
            "Requirement already satisfied: nest-asyncio in /usr/local/lib/python3.11/dist-packages (from dash) (1.6.0)\n",
            "Requirement already satisfied: setuptools in /usr/local/lib/python3.11/dist-packages (from dash) (75.1.0)\n",
            "Requirement already satisfied: stringcase>=1.2.0 in /usr/local/lib/python3.11/dist-packages (from dash) (1.2.0)\n",
            "Requirement already satisfied: Jinja2>=3.1.2 in /usr/local/lib/python3.11/dist-packages (from Flask<3.1,>=1.0.4->dash) (3.1.6)\n",
            "Requirement already satisfied: itsdangerous>=2.1.2 in /usr/local/lib/python3.11/dist-packages (from Flask<3.1,>=1.0.4->dash) (2.2.0)\n",
            "Requirement already satisfied: click>=8.1.3 in /usr/local/lib/python3.11/dist-packages (from Flask<3.1,>=1.0.4->dash) (8.1.8)\n",
            "Requirement already satisfied: blinker>=1.6.2 in /usr/local/lib/python3.11/dist-packages (from Flask<3.1,>=1.0.4->dash) (1.9.0)\n",
            "Requirement already satisfied: tenacity>=6.2.0 in /usr/local/lib/python3.11/dist-packages (from plotly>=5.0.0->dash) (9.0.0)\n",
            "Requirement already satisfied: packaging in /usr/local/lib/python3.11/dist-packages (from plotly>=5.0.0->dash) (24.2)\n",
            "Requirement already satisfied: MarkupSafe>=2.1.1 in /usr/local/lib/python3.11/dist-packages (from Werkzeug<3.1->dash) (3.0.2)\n",
            "Requirement already satisfied: zipp>=3.20 in /usr/local/lib/python3.11/dist-packages (from importlib-metadata->dash) (3.21.0)\n",
            "Requirement already satisfied: charset-normalizer<4,>=2 in /usr/local/lib/python3.11/dist-packages (from requests->dash) (3.4.1)\n",
            "Requirement already satisfied: idna<4,>=2.5 in /usr/local/lib/python3.11/dist-packages (from requests->dash) (3.10)\n",
            "Requirement already satisfied: urllib3<3,>=1.21.1 in /usr/local/lib/python3.11/dist-packages (from requests->dash) (2.3.0)\n",
            "Requirement already satisfied: certifi>=2017.4.17 in /usr/local/lib/python3.11/dist-packages (from requests->dash) (2025.1.31)\n",
            "Requirement already satisfied: six>=1.7.0 in /usr/local/lib/python3.11/dist-packages (from retrying->dash) (1.17.0)\n",
            "Crime Summary:\n",
            "                                TYPE  Incident_Counts\n",
            "0         Break and Enter Commercial            30044\n",
            "1  Break and Enter Residential/Other            56558\n",
            "2                           Mischief            63003\n",
            "3                        Other Theft            43586\n",
            "4                 Theft from Vehicle           152215\n"
          ]
        },
        {
          "output_type": "display_data",
          "data": {
            "text/plain": [
              "<IPython.core.display.Javascript object>"
            ],
            "application/javascript": [
              "(async (port, path, width, height, cache, element) => {\n",
              "    if (!google.colab.kernel.accessAllowed && !cache) {\n",
              "      return;\n",
              "    }\n",
              "    element.appendChild(document.createTextNode(''));\n",
              "    const url = await google.colab.kernel.proxyPort(port, {cache});\n",
              "    const iframe = document.createElement('iframe');\n",
              "    iframe.src = new URL(path, url).toString();\n",
              "    iframe.height = height;\n",
              "    iframe.width = width;\n",
              "    iframe.style.border = 0;\n",
              "    iframe.allow = [\n",
              "        'accelerometer',\n",
              "        'autoplay',\n",
              "        'camera',\n",
              "        'clipboard-read',\n",
              "        'clipboard-write',\n",
              "        'gyroscope',\n",
              "        'magnetometer',\n",
              "        'microphone',\n",
              "        'serial',\n",
              "        'usb',\n",
              "        'xr-spatial-tracking',\n",
              "    ].join('; ');\n",
              "    element.appendChild(iframe);\n",
              "  })(8050, \"/\", \"100%\", 650, false, window.element)"
            ]
          },
          "metadata": {}
        }
      ]
    }
  ]
}